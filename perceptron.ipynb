{
  "nbformat": 4,
  "nbformat_minor": 0,
  "metadata": {
    "colab": {
      "name": "perceptron.ipynb",
      "provenance": [],
      "collapsed_sections": [],
      "authorship_tag": "ABX9TyNrGsloeXT5Xza67vfxds9b",
      "include_colab_link": true
    },
    "kernelspec": {
      "name": "python3",
      "display_name": "Python 3"
    },
    "language_info": {
      "name": "python"
    }
  },
  "cells": [
    {
      "cell_type": "markdown",
      "metadata": {
        "id": "view-in-github",
        "colab_type": "text"
      },
      "source": [
        "<a href=\"https://colab.research.google.com/github/ncavasin/perceptron/blob/main/perceptron.ipynb\" target=\"_parent\"><img src=\"https://colab.research.google.com/assets/colab-badge.svg\" alt=\"Open In Colab\"/></a>"
      ]
    },
    {
      "cell_type": "markdown",
      "metadata": {
        "id": "TG0GbYV5Fm8A"
      },
      "source": [
        "## 11089 - Sistemas Inteligentes - Universidad Nacional de Luján - 2021\n",
        "# Perceptron\n",
        "Crear y entrenar un perceptrón capaz de clasificar las entradas recibidas en base a una función linealmente separable:\n",
        "- El perceptrón debe recibir tres entradas binarias.\n",
        "- Los pesos finales y el valor de la función umbral no pueden definirse a priori sino que serán determinados por el entrenamiento y los ejemplos en él utilizados.\n",
        "- La clasificación final sobre el conjunto de datos de entrada debe representarse gráficamente, en la forma de un plano que discrimine los valores de entrada en base a la función representada por el perceptrón.\n",
        "- Explicar brevemente cada uno de los criterios adoptados durantes las etapas de codificación, entrenamiento y evaluación.\n",
        "- El rango de cada coordenada debe ser [0, 1.5].\n",
        "\n",
        "**Fecha de entrega: 08/05/2021**"
      ]
    },
    {
      "cell_type": "markdown",
      "metadata": {
        "id": "LdDlgtkk_vFX"
      },
      "source": [
        "## Resolución\n",
        "\n",
        "### Paso 1 - Inicialización:\n",
        "- Se definen los valores booleanos de las 3 entradas .\n",
        "- Se define por cada combinación de entradsa el valor de salida de la función lógica OR correspondiente.\n",
        "- Se los combina en una matriz para facilitar su presentación."
      ]
    },
    {
      "cell_type": "code",
      "metadata": {
        "colab": {
          "base_uri": "https://localhost:8080/",
          "height": 300
        },
        "id": "Rzoa-U2p1Yp_",
        "outputId": "64f6d25f-5240-4abe-a3bd-15ab55e214ee"
      },
      "source": [
        "import numpy as np\n",
        "import pandas as pd\n",
        "\n",
        "# Hardcodeo los valores de las tres entradas, pues no van a variar\n",
        "x1 = pd.Series((0, 0, 0, 0, 1, 1, 1, 1), name='x1')\n",
        "x2 = pd.Series((0, 0, 1, 1, 0, 0, 1, 1), name='x2')\n",
        "x3 = pd.Series((0, 1, 0, 1, 0, 1, 0, 1), name='x3')\n",
        "\n",
        "# Defino contador para luego mostrar en matriz\n",
        "iter = 0\n",
        "\n",
        "# Los combino en una matriz\n",
        "matriz = pd.concat([x1, x2, x3], axis=1)\n",
        "\n",
        "# Defino la funcion de salida, en este caso la funcion logica OR\n",
        "y = pd.Series((0, 0, 0, 0, 0, 0, 0, 1), name='y')\n",
        "\n",
        "# La inserto a la tabla\n",
        "matriz = pd.concat([matriz, y], axis=1)\n",
        "\n",
        "# Muestro la tabla\n",
        "matriz"
      ],
      "execution_count": 1,
      "outputs": [
        {
          "output_type": "execute_result",
          "data": {
            "text/html": [
              "<div>\n",
              "<style scoped>\n",
              "    .dataframe tbody tr th:only-of-type {\n",
              "        vertical-align: middle;\n",
              "    }\n",
              "\n",
              "    .dataframe tbody tr th {\n",
              "        vertical-align: top;\n",
              "    }\n",
              "\n",
              "    .dataframe thead th {\n",
              "        text-align: right;\n",
              "    }\n",
              "</style>\n",
              "<table border=\"1\" class=\"dataframe\">\n",
              "  <thead>\n",
              "    <tr style=\"text-align: right;\">\n",
              "      <th></th>\n",
              "      <th>x1</th>\n",
              "      <th>x2</th>\n",
              "      <th>x3</th>\n",
              "      <th>y</th>\n",
              "    </tr>\n",
              "  </thead>\n",
              "  <tbody>\n",
              "    <tr>\n",
              "      <th>0</th>\n",
              "      <td>0</td>\n",
              "      <td>0</td>\n",
              "      <td>0</td>\n",
              "      <td>0</td>\n",
              "    </tr>\n",
              "    <tr>\n",
              "      <th>1</th>\n",
              "      <td>0</td>\n",
              "      <td>0</td>\n",
              "      <td>1</td>\n",
              "      <td>0</td>\n",
              "    </tr>\n",
              "    <tr>\n",
              "      <th>2</th>\n",
              "      <td>0</td>\n",
              "      <td>1</td>\n",
              "      <td>0</td>\n",
              "      <td>0</td>\n",
              "    </tr>\n",
              "    <tr>\n",
              "      <th>3</th>\n",
              "      <td>0</td>\n",
              "      <td>1</td>\n",
              "      <td>1</td>\n",
              "      <td>0</td>\n",
              "    </tr>\n",
              "    <tr>\n",
              "      <th>4</th>\n",
              "      <td>1</td>\n",
              "      <td>0</td>\n",
              "      <td>0</td>\n",
              "      <td>0</td>\n",
              "    </tr>\n",
              "    <tr>\n",
              "      <th>5</th>\n",
              "      <td>1</td>\n",
              "      <td>0</td>\n",
              "      <td>1</td>\n",
              "      <td>0</td>\n",
              "    </tr>\n",
              "    <tr>\n",
              "      <th>6</th>\n",
              "      <td>1</td>\n",
              "      <td>1</td>\n",
              "      <td>0</td>\n",
              "      <td>0</td>\n",
              "    </tr>\n",
              "    <tr>\n",
              "      <th>7</th>\n",
              "      <td>1</td>\n",
              "      <td>1</td>\n",
              "      <td>1</td>\n",
              "      <td>1</td>\n",
              "    </tr>\n",
              "  </tbody>\n",
              "</table>\n",
              "</div>"
            ],
            "text/plain": [
              "   x1  x2  x3  y\n",
              "0   0   0   0  0\n",
              "1   0   0   1  0\n",
              "2   0   1   0  0\n",
              "3   0   1   1  0\n",
              "4   1   0   0  0\n",
              "5   1   0   1  0\n",
              "6   1   1   0  0\n",
              "7   1   1   1  1"
            ]
          },
          "metadata": {
            "tags": []
          },
          "execution_count": 1
        }
      ]
    },
    {
      "cell_type": "markdown",
      "metadata": {
        "id": "nHg-hytMaPHH"
      },
      "source": [
        "### Paso 2 - Funciones\n",
        "Se definen las funciones auxiliares ``train()``, ``adjust()`` y ``sep_function()``  para construir el Perceptrón.\n",
        "\n",
        "\n",
        "\n",
        "___\n",
        "\n",
        "\n",
        "``sep_function()``:\n",
        "\n",
        "Esta función es aplicada a cada Z obtenido para acotar la salida al rango de valores binarios $[0, 1]$."
      ]
    },
    {
      "cell_type": "code",
      "metadata": {
        "id": "qXBfiYivcpPI"
      },
      "source": [
        "def sep_function(z):\n",
        "    \"\"\"\n",
        "    Esta funcion representa la separacion lineal de cada salida obtenida.\n",
        "    Si z >= 0.5 ==> z = 1\n",
        "    Si z <  0.5 ==> z = 0\n",
        "    \"\"\"\n",
        "\n",
        "    if z >= 0.5:\n",
        "        return 1\n",
        "    else:\n",
        "        return 0"
      ],
      "execution_count": 2,
      "outputs": []
    },
    {
      "cell_type": "markdown",
      "metadata": {
        "id": "1lCyCY634xnr"
      },
      "source": [
        "___\n",
        "\n",
        "``adjust()``:\n",
        "\n",
        "Cada vez que el valor Z sea diferente al valor Y -correspondiente a la salida correcta para dicha combinación de entradas- se aplica esta función cuyo objetivo es calcular el error de estimación para poder ajustar $b$ (el threshold) y $w_i$ (los pesos asignados)."
      ]
    },
    {
      "cell_type": "code",
      "metadata": {
        "id": "t2WGoVfxNGMO"
      },
      "source": [
        "def adjust(z, y, t, p, lr):\n",
        "    \n",
        "    # Calculo error\n",
        "    error = y - z\n",
        "\n",
        "    # Ajusto threhsold\n",
        "    t = t + (-1 *(lr * error))\n",
        "\n",
        "    # Ajusto pesos\n",
        "    p['x1'] += (p['x1'] * lr * error)\n",
        "    p['x2'] += (p['x2'] * lr * error)\n",
        "    p['x3'] += (p['x3'] * lr * error)\n",
        "\n",
        "    return t, p"
      ],
      "execution_count": 3,
      "outputs": []
    },
    {
      "cell_type": "markdown",
      "metadata": {
        "id": "uOnGrTj84xUC"
      },
      "source": [
        "___\n",
        "\n",
        "``train()``:\n",
        "\n",
        "Se alimenta de las entradas definidas en la matriz y para cada combinacion de ellas calcula un valor de Z al que posteriormente aplica la función de separación para redondear su valor.\n",
        "\n",
        "La fórmula utilizada es para obtener Z es $Z=(\\sum_{i=1}^n x_i*w_i) + b$, siendo: \n",
        "\n",
        "- $n$ la cantidad de entradas en la matriz.\n",
        "- $x_i$ el valor de la entrada procesada.\n",
        "- $w_i$ el peso asginado una entrada.\n",
        "- $b$ el threshold."
      ]
    },
    {
      "cell_type": "code",
      "metadata": {
        "id": "LNsrq-1OZoxe"
      },
      "source": [
        "def train(mat, p, t, lr, e):\n",
        "\n",
        "    errores = True\n",
        "\n",
        "    while errores and e < 100:\n",
        "        errores = False\n",
        "\n",
        "        # Creo lista para almacenar valores calculados\n",
        "        z2 = []\n",
        "\n",
        "        for i in range(0, matriz.shape[0]):\n",
        "\n",
        "            # Calculo z\n",
        "            z = ((mat['x1'][i] * p['x1']) + (mat['x2'][i] * p['x2']) + (mat['x3'][i] * p['x3'])) - t\n",
        "\n",
        "            # Aplico la funcion de separacion\n",
        "            z = sep_function(z)\n",
        "\n",
        "            #print(f'z={z} | y={mat[\"y\"][i]} | t ={t}')\n",
        "\n",
        "            # Verifico si hubo error\n",
        "            if z != mat['y'][i]:\n",
        "                errores = True\n",
        "\n",
        "                # Ajusto\n",
        "                t, p = adjust(z, mat['y'][i], t, p, lr)\n",
        "                \n",
        "                #print(f'AJUSTE = t ={t} | pesos = {p.values()}')\n",
        "                \n",
        "                # Incremento contador de iteraciones\n",
        "                e += 1     \n",
        "                #print(f'Epoch = {e}')\n",
        "            \n",
        "            # Agrego el valor calculado a la lista\n",
        "            z2.append(z)\n",
        "    if epochs == 100:\n",
        "        exit(-1)\n",
        "    else:\n",
        "        return t, p, e, z2"
      ],
      "execution_count": 4,
      "outputs": []
    },
    {
      "cell_type": "markdown",
      "metadata": {
        "id": "wan01iL31xQ3"
      },
      "source": [
        "### Paso 3 - Ejecucion\n",
        "\n",
        "- Se inicializan los pesos de manera aleatoria\n",
        "- Se define un $b$ ``threshold`` = 0.5\n",
        "- Se define la velocidad de aprendizaje ``learning_rate`` = 0.2\n",
        "- Se inicializa en 0 el acumulador ``epochs`` que indicará cuantas veces se ajustaron los pesos.\n",
        "\n",
        "\n",
        "**Nota:** el límite superior de ajustes de peso permitido es *100* para evitar demoras de procesamiento. Cuando sea alcanzado, se retornaran todos los valores actuales aunque tengan errores de clasificación y esto se podrá ver reflejado en la matriz de resultados."
      ]
    },
    {
      "cell_type": "code",
      "metadata": {
        "id": "zPwBT2q-D_t5",
        "colab": {
          "base_uri": "https://localhost:8080/",
          "height": 665
        },
        "outputId": "40d8b4f7-7961-4082-ec89-415f379ebee2"
      },
      "source": [
        "import random \n",
        "\n",
        "# Defino los valores iniciales del threshold, learn rate y epochs\n",
        "threshold = 0.5\n",
        "learn_rate = 0.2\n",
        "epochs = 0\n",
        "\n",
        "# Inicializo pesos al azar\n",
        "pesos = {}\n",
        "pesos['x1'] = np.float(round(random.uniform(0, 1.5), 2))\n",
        "pesos['x2'] = np.float(round(random.uniform(0, 1.5), 2))\n",
        "pesos['x3'] = np.float(round(random.uniform(0, 1.5), 2))\n",
        "\n",
        "\n",
        "print('PARAMETROS INICIALES:')\n",
        "print(f'Epochs = {epochs}')\n",
        "print(f'Threshold = {threshold:.2f}')\n",
        "print(f\"Vel aprendizaje = {learn_rate}\")\n",
        "for index, value in enumerate(pesos):\n",
        "    print(f'Peso {index} = {pesos[value]:.4f}')\n",
        "\n",
        "\n",
        "print('\\n<=== INI PERIODO DE ENTRENAMIENTO ===>')\n",
        "\n",
        "# Entreno\n",
        "threshold, pesos, epochs, z = train(matriz, pesos, threshold, learn_rate, epochs)\n",
        "\n",
        "# Formateo para mostrar\n",
        "z = pd.Series(np.asarray(z), name=f'z{iter}')\n",
        "matriz = pd.concat([matriz, z], axis= 1)\n",
        "\n",
        "# Aumento el contador de veces ejecutadas del algoritmo\n",
        "iter += 1\n",
        "print('<=== FIN PERIODO DE ENTRENAMIENTO ===>')\n",
        "\n",
        "\n",
        "print('\\nPARAMETROS FINALES:')\n",
        "print(f'Epochs = {epochs}')\n",
        "print(f'Threshold = {threshold:.2f}')\n",
        "print(f\"Vel aprendizaje = {learn_rate}\")\n",
        "for index, value in enumerate(pesos):\n",
        "    print(f'Peso {index} = {pesos[value]:.4f}')\n",
        "\n",
        "print('\\n\\nMatriz original con los Z calculados:')\n",
        "matriz"
      ],
      "execution_count": 5,
      "outputs": [
        {
          "output_type": "stream",
          "text": [
            "PARAMETROS INICIALES:\n",
            "Epochs = 0\n",
            "Threshold = 0.50\n",
            "Vel aprendizaje = 0.2\n",
            "Peso 0 = 0.7800\n",
            "Peso 1 = 1.0700\n",
            "Peso 2 = 0.0600\n",
            "\n",
            "<=== INI PERIODO DE ENTRENAMIENTO ===>\n",
            "<=== FIN PERIODO DE ENTRENAMIENTO ===>\n",
            "\n",
            "PARAMETROS FINALES:\n",
            "Epochs = 76\n",
            "Threshold = 0.10\n",
            "Vel aprendizaje = 0.2\n",
            "Peso 0 = 0.2480\n",
            "Peso 1 = 0.3402\n",
            "Peso 2 = 0.0191\n",
            "\n",
            "\n",
            "Matriz con todas las ejecuciones y sus resultados:\n"
          ],
          "name": "stdout"
        },
        {
          "output_type": "execute_result",
          "data": {
            "text/html": [
              "<div>\n",
              "<style scoped>\n",
              "    .dataframe tbody tr th:only-of-type {\n",
              "        vertical-align: middle;\n",
              "    }\n",
              "\n",
              "    .dataframe tbody tr th {\n",
              "        vertical-align: top;\n",
              "    }\n",
              "\n",
              "    .dataframe thead th {\n",
              "        text-align: right;\n",
              "    }\n",
              "</style>\n",
              "<table border=\"1\" class=\"dataframe\">\n",
              "  <thead>\n",
              "    <tr style=\"text-align: right;\">\n",
              "      <th></th>\n",
              "      <th>x1</th>\n",
              "      <th>x2</th>\n",
              "      <th>x3</th>\n",
              "      <th>y</th>\n",
              "      <th>z0</th>\n",
              "    </tr>\n",
              "  </thead>\n",
              "  <tbody>\n",
              "    <tr>\n",
              "      <th>0</th>\n",
              "      <td>0</td>\n",
              "      <td>0</td>\n",
              "      <td>0</td>\n",
              "      <td>0</td>\n",
              "      <td>0</td>\n",
              "    </tr>\n",
              "    <tr>\n",
              "      <th>1</th>\n",
              "      <td>0</td>\n",
              "      <td>0</td>\n",
              "      <td>1</td>\n",
              "      <td>0</td>\n",
              "      <td>0</td>\n",
              "    </tr>\n",
              "    <tr>\n",
              "      <th>2</th>\n",
              "      <td>0</td>\n",
              "      <td>1</td>\n",
              "      <td>0</td>\n",
              "      <td>0</td>\n",
              "      <td>0</td>\n",
              "    </tr>\n",
              "    <tr>\n",
              "      <th>3</th>\n",
              "      <td>0</td>\n",
              "      <td>1</td>\n",
              "      <td>1</td>\n",
              "      <td>0</td>\n",
              "      <td>0</td>\n",
              "    </tr>\n",
              "    <tr>\n",
              "      <th>4</th>\n",
              "      <td>1</td>\n",
              "      <td>0</td>\n",
              "      <td>0</td>\n",
              "      <td>0</td>\n",
              "      <td>0</td>\n",
              "    </tr>\n",
              "    <tr>\n",
              "      <th>5</th>\n",
              "      <td>1</td>\n",
              "      <td>0</td>\n",
              "      <td>1</td>\n",
              "      <td>0</td>\n",
              "      <td>0</td>\n",
              "    </tr>\n",
              "    <tr>\n",
              "      <th>6</th>\n",
              "      <td>1</td>\n",
              "      <td>1</td>\n",
              "      <td>0</td>\n",
              "      <td>0</td>\n",
              "      <td>0</td>\n",
              "    </tr>\n",
              "    <tr>\n",
              "      <th>7</th>\n",
              "      <td>1</td>\n",
              "      <td>1</td>\n",
              "      <td>1</td>\n",
              "      <td>1</td>\n",
              "      <td>1</td>\n",
              "    </tr>\n",
              "  </tbody>\n",
              "</table>\n",
              "</div>"
            ],
            "text/plain": [
              "   x1  x2  x3  y  z0\n",
              "0   0   0   0  0   0\n",
              "1   0   0   1  0   0\n",
              "2   0   1   0  0   0\n",
              "3   0   1   1  0   0\n",
              "4   1   0   0  0   0\n",
              "5   1   0   1  0   0\n",
              "6   1   1   0  0   0\n",
              "7   1   1   1  1   1"
            ]
          },
          "metadata": {
            "tags": []
          },
          "execution_count": 5
        }
      ]
    },
    {
      "cell_type": "markdown",
      "metadata": {
        "id": "Oa7odnnP1_6z"
      },
      "source": [
        "### Paso 4 - Representacion grafica\n",
        "\n",
        "Como resultado del entrenamiento del perceptron se grafica en R3 el plano Z obtenido en base a los valores calculados junto con los puntos de entrada.\n",
        "\n",
        "Recordar que en R3 la ecuación general de una recta es $0 = aX + bY + cZ + d$. La equivalencia, utilizando la nomenclatura del código, es la siguiente:\n",
        "- $a$ = $peso_1$\n",
        "- $b$ = $peso_2$\n",
        "- $c$ = $peso_3$\n",
        "- $d$ = ``threshold``\n",
        "\n",
        "Despejando, se obtiene $Z = \\frac{aX + bY + D}{c}$. \n",
        "\n",
        "En nuestra nomenclatura quedaría:\n",
        "$Z = \\frac{peso_1 * X + peso_2 * Y + threshold}{peso_3}$"
      ]
    },
    {
      "cell_type": "code",
      "metadata": {
        "id": "tjvxvqvGiGo4",
        "colab": {
          "base_uri": "https://localhost:8080/",
          "height": 817
        },
        "outputId": "8356fe72-7267-4dc9-ec7d-4c3ba0eded2e"
      },
      "source": [
        "import plotly.graph_objects as go\n",
        "\n",
        "xx = np.linspace(-1,1,10)\n",
        "yy = np.linspace(-1,1,10)\n",
        "X,Y = np.meshgrid(xx,yy)\n",
        "\n",
        "Z = (pesos['x1'] * X + pesos['x2'] * Y + threshold) / pesos['x3']\n",
        "\n",
        "fig = go.Figure(data=[go.Surface(x=X, y=Y,z=Z, colorscale=['cyan', 'cyan', 'cyan']),   \n",
        "                      go.Scatter3d(x=matriz['x1'], y=matriz['x2'], z=matriz['x3'],\n",
        "                                   mode='markers', marker=dict(size=4, color='green'))\n",
        "                      ]\n",
        "                )\n",
        "\n",
        "fig.update_layout(width=800, height=800)\n",
        "fig.show()\n"
      ],
      "execution_count": 6,
      "outputs": [
        {
          "output_type": "display_data",
          "data": {
            "text/html": [
              "<html>\n",
              "<head><meta charset=\"utf-8\" /></head>\n",
              "<body>\n",
              "    <div>\n",
              "            <script src=\"https://cdnjs.cloudflare.com/ajax/libs/mathjax/2.7.5/MathJax.js?config=TeX-AMS-MML_SVG\"></script><script type=\"text/javascript\">if (window.MathJax) {MathJax.Hub.Config({SVG: {font: \"STIX-Web\"}});}</script>\n",
              "                <script type=\"text/javascript\">window.PlotlyConfig = {MathJaxConfig: 'local'};</script>\n",
              "        <script src=\"https://cdn.plot.ly/plotly-latest.min.js\"></script>    \n",
              "            <div id=\"bb872ccc-2751-4c99-b6e4-bfce73f027af\" class=\"plotly-graph-div\" style=\"height:800px; width:800px;\"></div>\n",
              "            <script type=\"text/javascript\">\n",
              "                \n",
              "                    window.PLOTLYENV=window.PLOTLYENV || {};\n",
              "                    \n",
              "                if (document.getElementById(\"bb872ccc-2751-4c99-b6e4-bfce73f027af\")) {\n",
              "                    Plotly.newPlot(\n",
              "                        'bb872ccc-2751-4c99-b6e4-bfce73f027af',\n",
              "                        [{\"colorscale\": [[0.0, \"cyan\"], [0.5, \"cyan\"], [1.0, \"cyan\"]], \"type\": \"surface\", \"x\": [[-1.0, -0.7777777777777778, -0.5555555555555556, -0.33333333333333337, -0.11111111111111116, 0.11111111111111116, 0.33333333333333326, 0.5555555555555554, 0.7777777777777777, 1.0], [-1.0, -0.7777777777777778, -0.5555555555555556, -0.33333333333333337, -0.11111111111111116, 0.11111111111111116, 0.33333333333333326, 0.5555555555555554, 0.7777777777777777, 1.0], [-1.0, -0.7777777777777778, -0.5555555555555556, -0.33333333333333337, -0.11111111111111116, 0.11111111111111116, 0.33333333333333326, 0.5555555555555554, 0.7777777777777777, 1.0], [-1.0, -0.7777777777777778, -0.5555555555555556, -0.33333333333333337, -0.11111111111111116, 0.11111111111111116, 0.33333333333333326, 0.5555555555555554, 0.7777777777777777, 1.0], [-1.0, -0.7777777777777778, -0.5555555555555556, -0.33333333333333337, -0.11111111111111116, 0.11111111111111116, 0.33333333333333326, 0.5555555555555554, 0.7777777777777777, 1.0], [-1.0, -0.7777777777777778, -0.5555555555555556, -0.33333333333333337, -0.11111111111111116, 0.11111111111111116, 0.33333333333333326, 0.5555555555555554, 0.7777777777777777, 1.0], [-1.0, -0.7777777777777778, -0.5555555555555556, -0.33333333333333337, -0.11111111111111116, 0.11111111111111116, 0.33333333333333326, 0.5555555555555554, 0.7777777777777777, 1.0], [-1.0, -0.7777777777777778, -0.5555555555555556, -0.33333333333333337, -0.11111111111111116, 0.11111111111111116, 0.33333333333333326, 0.5555555555555554, 0.7777777777777777, 1.0], [-1.0, -0.7777777777777778, -0.5555555555555556, -0.33333333333333337, -0.11111111111111116, 0.11111111111111116, 0.33333333333333326, 0.5555555555555554, 0.7777777777777777, 1.0], [-1.0, -0.7777777777777778, -0.5555555555555556, -0.33333333333333337, -0.11111111111111116, 0.11111111111111116, 0.33333333333333326, 0.5555555555555554, 0.7777777777777777, 1.0]], \"y\": [[-1.0, -1.0, -1.0, -1.0, -1.0, -1.0, -1.0, -1.0, -1.0, -1.0], [-0.7777777777777778, -0.7777777777777778, -0.7777777777777778, -0.7777777777777778, -0.7777777777777778, -0.7777777777777778, -0.7777777777777778, -0.7777777777777778, -0.7777777777777778, -0.7777777777777778], [-0.5555555555555556, -0.5555555555555556, -0.5555555555555556, -0.5555555555555556, -0.5555555555555556, -0.5555555555555556, -0.5555555555555556, -0.5555555555555556, -0.5555555555555556, -0.5555555555555556], [-0.33333333333333337, -0.33333333333333337, -0.33333333333333337, -0.33333333333333337, -0.33333333333333337, -0.33333333333333337, -0.33333333333333337, -0.33333333333333337, -0.33333333333333337, -0.33333333333333337], [-0.11111111111111116, -0.11111111111111116, -0.11111111111111116, -0.11111111111111116, -0.11111111111111116, -0.11111111111111116, -0.11111111111111116, -0.11111111111111116, -0.11111111111111116, -0.11111111111111116], [0.11111111111111116, 0.11111111111111116, 0.11111111111111116, 0.11111111111111116, 0.11111111111111116, 0.11111111111111116, 0.11111111111111116, 0.11111111111111116, 0.11111111111111116, 0.11111111111111116], [0.33333333333333326, 0.33333333333333326, 0.33333333333333326, 0.33333333333333326, 0.33333333333333326, 0.33333333333333326, 0.33333333333333326, 0.33333333333333326, 0.33333333333333326, 0.33333333333333326], [0.5555555555555554, 0.5555555555555554, 0.5555555555555554, 0.5555555555555554, 0.5555555555555554, 0.5555555555555554, 0.5555555555555554, 0.5555555555555554, 0.5555555555555554, 0.5555555555555554], [0.7777777777777777, 0.7777777777777777, 0.7777777777777777, 0.7777777777777777, 0.7777777777777777, 0.7777777777777777, 0.7777777777777777, 0.7777777777777777, 0.7777777777777777, 0.7777777777777777], [1.0, 1.0, 1.0, 1.0, 1.0, 1.0, 1.0, 1.0, 1.0, 1.0]], \"z\": [[-25.591893135797168, -22.70300424690828, -19.81411535801939, -16.925226469130497, -14.036337580241605, -11.147448691352718, -8.258559802463829, -5.3696709135749385, -2.4807820246860466, 0.4081068642028453], [-21.628930172834206, -18.740041283945317, -15.851152395056424, -12.962263506167535, -10.073374617278647, -7.184485728389753, -4.295596839500865, -1.4067079506119757, 1.482180938276916, 4.371069827165807], [-17.665967209871244, -14.777078320982353, -11.888189432093466, -8.999300543204573, -6.110411654315683, -3.221522765426791, -0.3326338765379023, 2.5562550123509866, 5.445143901239878, 8.33403279012877], [-13.703004246908282, -10.814115358019391, -7.925226469130499, -5.036337580241611, -2.1474486913527207, 0.7414401975361713, 3.63032908642506, 6.519217975313949, 9.408106864202841, 12.296995753091732], [-9.740041283945319, -6.851152395056429, -3.9622635061675386, -1.0733746172786485, 1.815514271610242, 4.704403160499133, 7.5932920493880225, 10.482180938276912, 13.371069827165801, 16.259958716054697], [-5.777078320982354, -2.888189432093464, 0.0006994567954265779, 2.8895883456843166, 5.778477234573207, 8.667366123462099, 11.556255012350988, 14.445143901239877, 17.334032790128767, 20.22292167901766], [-1.8141153580193932, 1.0747735308694966, 3.9636624197583865, 6.852551308647277, 9.741440197536168, 12.63032908642506, 15.519217975313948, 18.408106864202836, 21.29699575309173, 24.18588464198062], [2.1488476049435663, 5.0377364938324565, 7.926625382721347, 10.815514271610237, 13.704403160499128, 16.59329204938802, 19.482180938276908, 22.371069827165798, 25.259958716054687, 28.14884760494358], [6.11181056790653, 9.00069945679542, 11.889588345684311, 14.7784772345732, 17.667366123462088, 20.55625501235098, 23.44514390123987, 26.334032790128763, 29.222921679017652, 32.11181056790654], [10.074773530869495, 12.963662419758386, 15.852551308647277, 18.741440197536168, 21.630329086425057, 24.519217975313946, 27.40810686420284, 30.29699575309173, 33.185884641980614, 36.07477353086951]]}, {\"marker\": {\"color\": \"green\", \"size\": 4}, \"mode\": \"markers\", \"type\": \"scatter3d\", \"x\": [0, 0, 0, 0, 1, 1, 1, 1], \"y\": [0, 0, 1, 1, 0, 0, 1, 1], \"z\": [0, 1, 0, 1, 0, 1, 0, 1]}],\n",
              "                        {\"height\": 800, \"template\": {\"data\": {\"bar\": [{\"error_x\": {\"color\": \"#2a3f5f\"}, \"error_y\": {\"color\": \"#2a3f5f\"}, \"marker\": {\"line\": {\"color\": \"#E5ECF6\", \"width\": 0.5}}, \"type\": \"bar\"}], \"barpolar\": [{\"marker\": {\"line\": {\"color\": \"#E5ECF6\", \"width\": 0.5}}, \"type\": \"barpolar\"}], \"carpet\": [{\"aaxis\": {\"endlinecolor\": \"#2a3f5f\", \"gridcolor\": \"white\", \"linecolor\": \"white\", \"minorgridcolor\": \"white\", \"startlinecolor\": \"#2a3f5f\"}, \"baxis\": {\"endlinecolor\": \"#2a3f5f\", \"gridcolor\": \"white\", \"linecolor\": \"white\", \"minorgridcolor\": \"white\", \"startlinecolor\": \"#2a3f5f\"}, \"type\": \"carpet\"}], \"choropleth\": [{\"colorbar\": {\"outlinewidth\": 0, \"ticks\": \"\"}, \"type\": \"choropleth\"}], \"contour\": [{\"colorbar\": {\"outlinewidth\": 0, \"ticks\": \"\"}, \"colorscale\": [[0.0, \"#0d0887\"], [0.1111111111111111, \"#46039f\"], [0.2222222222222222, \"#7201a8\"], [0.3333333333333333, \"#9c179e\"], [0.4444444444444444, \"#bd3786\"], [0.5555555555555556, \"#d8576b\"], [0.6666666666666666, \"#ed7953\"], [0.7777777777777778, \"#fb9f3a\"], [0.8888888888888888, \"#fdca26\"], [1.0, \"#f0f921\"]], \"type\": \"contour\"}], \"contourcarpet\": [{\"colorbar\": {\"outlinewidth\": 0, \"ticks\": \"\"}, \"type\": \"contourcarpet\"}], \"heatmap\": [{\"colorbar\": {\"outlinewidth\": 0, \"ticks\": \"\"}, \"colorscale\": [[0.0, \"#0d0887\"], [0.1111111111111111, \"#46039f\"], [0.2222222222222222, \"#7201a8\"], [0.3333333333333333, \"#9c179e\"], [0.4444444444444444, \"#bd3786\"], [0.5555555555555556, \"#d8576b\"], [0.6666666666666666, \"#ed7953\"], [0.7777777777777778, \"#fb9f3a\"], [0.8888888888888888, \"#fdca26\"], [1.0, \"#f0f921\"]], \"type\": \"heatmap\"}], \"heatmapgl\": [{\"colorbar\": {\"outlinewidth\": 0, \"ticks\": \"\"}, \"colorscale\": [[0.0, \"#0d0887\"], [0.1111111111111111, \"#46039f\"], [0.2222222222222222, \"#7201a8\"], [0.3333333333333333, \"#9c179e\"], [0.4444444444444444, \"#bd3786\"], [0.5555555555555556, \"#d8576b\"], [0.6666666666666666, \"#ed7953\"], [0.7777777777777778, \"#fb9f3a\"], [0.8888888888888888, \"#fdca26\"], [1.0, \"#f0f921\"]], \"type\": \"heatmapgl\"}], \"histogram\": [{\"marker\": {\"colorbar\": {\"outlinewidth\": 0, \"ticks\": \"\"}}, \"type\": \"histogram\"}], \"histogram2d\": [{\"colorbar\": {\"outlinewidth\": 0, \"ticks\": \"\"}, \"colorscale\": [[0.0, \"#0d0887\"], [0.1111111111111111, \"#46039f\"], [0.2222222222222222, \"#7201a8\"], [0.3333333333333333, \"#9c179e\"], [0.4444444444444444, \"#bd3786\"], [0.5555555555555556, \"#d8576b\"], [0.6666666666666666, \"#ed7953\"], [0.7777777777777778, \"#fb9f3a\"], [0.8888888888888888, \"#fdca26\"], [1.0, \"#f0f921\"]], \"type\": \"histogram2d\"}], \"histogram2dcontour\": [{\"colorbar\": {\"outlinewidth\": 0, \"ticks\": \"\"}, \"colorscale\": [[0.0, \"#0d0887\"], [0.1111111111111111, \"#46039f\"], [0.2222222222222222, \"#7201a8\"], [0.3333333333333333, \"#9c179e\"], [0.4444444444444444, \"#bd3786\"], [0.5555555555555556, \"#d8576b\"], [0.6666666666666666, \"#ed7953\"], [0.7777777777777778, \"#fb9f3a\"], [0.8888888888888888, \"#fdca26\"], [1.0, \"#f0f921\"]], \"type\": \"histogram2dcontour\"}], \"mesh3d\": [{\"colorbar\": {\"outlinewidth\": 0, \"ticks\": \"\"}, \"type\": \"mesh3d\"}], \"parcoords\": [{\"line\": {\"colorbar\": {\"outlinewidth\": 0, \"ticks\": \"\"}}, \"type\": \"parcoords\"}], \"pie\": [{\"automargin\": true, \"type\": \"pie\"}], \"scatter\": [{\"marker\": {\"colorbar\": {\"outlinewidth\": 0, \"ticks\": \"\"}}, \"type\": \"scatter\"}], \"scatter3d\": [{\"line\": {\"colorbar\": {\"outlinewidth\": 0, \"ticks\": \"\"}}, \"marker\": {\"colorbar\": {\"outlinewidth\": 0, \"ticks\": \"\"}}, \"type\": \"scatter3d\"}], \"scattercarpet\": [{\"marker\": {\"colorbar\": {\"outlinewidth\": 0, \"ticks\": \"\"}}, \"type\": \"scattercarpet\"}], \"scattergeo\": [{\"marker\": {\"colorbar\": {\"outlinewidth\": 0, \"ticks\": \"\"}}, \"type\": \"scattergeo\"}], \"scattergl\": [{\"marker\": {\"colorbar\": {\"outlinewidth\": 0, \"ticks\": \"\"}}, \"type\": \"scattergl\"}], \"scattermapbox\": [{\"marker\": {\"colorbar\": {\"outlinewidth\": 0, \"ticks\": \"\"}}, \"type\": \"scattermapbox\"}], \"scatterpolar\": [{\"marker\": {\"colorbar\": {\"outlinewidth\": 0, \"ticks\": \"\"}}, \"type\": \"scatterpolar\"}], \"scatterpolargl\": [{\"marker\": {\"colorbar\": {\"outlinewidth\": 0, \"ticks\": \"\"}}, \"type\": \"scatterpolargl\"}], \"scatterternary\": [{\"marker\": {\"colorbar\": {\"outlinewidth\": 0, \"ticks\": \"\"}}, \"type\": \"scatterternary\"}], \"surface\": [{\"colorbar\": {\"outlinewidth\": 0, \"ticks\": \"\"}, \"colorscale\": [[0.0, \"#0d0887\"], [0.1111111111111111, \"#46039f\"], [0.2222222222222222, \"#7201a8\"], [0.3333333333333333, \"#9c179e\"], [0.4444444444444444, \"#bd3786\"], [0.5555555555555556, \"#d8576b\"], [0.6666666666666666, \"#ed7953\"], [0.7777777777777778, \"#fb9f3a\"], [0.8888888888888888, \"#fdca26\"], [1.0, \"#f0f921\"]], \"type\": \"surface\"}], \"table\": [{\"cells\": {\"fill\": {\"color\": \"#EBF0F8\"}, \"line\": {\"color\": \"white\"}}, \"header\": {\"fill\": {\"color\": \"#C8D4E3\"}, \"line\": {\"color\": \"white\"}}, \"type\": \"table\"}]}, \"layout\": {\"annotationdefaults\": {\"arrowcolor\": \"#2a3f5f\", \"arrowhead\": 0, \"arrowwidth\": 1}, \"coloraxis\": {\"colorbar\": {\"outlinewidth\": 0, \"ticks\": \"\"}}, \"colorscale\": {\"diverging\": [[0, \"#8e0152\"], [0.1, \"#c51b7d\"], [0.2, \"#de77ae\"], [0.3, \"#f1b6da\"], [0.4, \"#fde0ef\"], [0.5, \"#f7f7f7\"], [0.6, \"#e6f5d0\"], [0.7, \"#b8e186\"], [0.8, \"#7fbc41\"], [0.9, \"#4d9221\"], [1, \"#276419\"]], \"sequential\": [[0.0, \"#0d0887\"], [0.1111111111111111, \"#46039f\"], [0.2222222222222222, \"#7201a8\"], [0.3333333333333333, \"#9c179e\"], [0.4444444444444444, \"#bd3786\"], [0.5555555555555556, \"#d8576b\"], [0.6666666666666666, \"#ed7953\"], [0.7777777777777778, \"#fb9f3a\"], [0.8888888888888888, \"#fdca26\"], [1.0, \"#f0f921\"]], \"sequentialminus\": [[0.0, \"#0d0887\"], [0.1111111111111111, \"#46039f\"], [0.2222222222222222, \"#7201a8\"], [0.3333333333333333, \"#9c179e\"], [0.4444444444444444, \"#bd3786\"], [0.5555555555555556, \"#d8576b\"], [0.6666666666666666, \"#ed7953\"], [0.7777777777777778, \"#fb9f3a\"], [0.8888888888888888, \"#fdca26\"], [1.0, \"#f0f921\"]]}, \"colorway\": [\"#636efa\", \"#EF553B\", \"#00cc96\", \"#ab63fa\", \"#FFA15A\", \"#19d3f3\", \"#FF6692\", \"#B6E880\", \"#FF97FF\", \"#FECB52\"], \"font\": {\"color\": \"#2a3f5f\"}, \"geo\": {\"bgcolor\": \"white\", \"lakecolor\": \"white\", \"landcolor\": \"#E5ECF6\", \"showlakes\": true, \"showland\": true, \"subunitcolor\": \"white\"}, \"hoverlabel\": {\"align\": \"left\"}, \"hovermode\": \"closest\", \"mapbox\": {\"style\": \"light\"}, \"paper_bgcolor\": \"white\", \"plot_bgcolor\": \"#E5ECF6\", \"polar\": {\"angularaxis\": {\"gridcolor\": \"white\", \"linecolor\": \"white\", \"ticks\": \"\"}, \"bgcolor\": \"#E5ECF6\", \"radialaxis\": {\"gridcolor\": \"white\", \"linecolor\": \"white\", \"ticks\": \"\"}}, \"scene\": {\"xaxis\": {\"backgroundcolor\": \"#E5ECF6\", \"gridcolor\": \"white\", \"gridwidth\": 2, \"linecolor\": \"white\", \"showbackground\": true, \"ticks\": \"\", \"zerolinecolor\": \"white\"}, \"yaxis\": {\"backgroundcolor\": \"#E5ECF6\", \"gridcolor\": \"white\", \"gridwidth\": 2, \"linecolor\": \"white\", \"showbackground\": true, \"ticks\": \"\", \"zerolinecolor\": \"white\"}, \"zaxis\": {\"backgroundcolor\": \"#E5ECF6\", \"gridcolor\": \"white\", \"gridwidth\": 2, \"linecolor\": \"white\", \"showbackground\": true, \"ticks\": \"\", \"zerolinecolor\": \"white\"}}, \"shapedefaults\": {\"line\": {\"color\": \"#2a3f5f\"}}, \"ternary\": {\"aaxis\": {\"gridcolor\": \"white\", \"linecolor\": \"white\", \"ticks\": \"\"}, \"baxis\": {\"gridcolor\": \"white\", \"linecolor\": \"white\", \"ticks\": \"\"}, \"bgcolor\": \"#E5ECF6\", \"caxis\": {\"gridcolor\": \"white\", \"linecolor\": \"white\", \"ticks\": \"\"}}, \"title\": {\"x\": 0.05}, \"xaxis\": {\"automargin\": true, \"gridcolor\": \"white\", \"linecolor\": \"white\", \"ticks\": \"\", \"title\": {\"standoff\": 15}, \"zerolinecolor\": \"white\", \"zerolinewidth\": 2}, \"yaxis\": {\"automargin\": true, \"gridcolor\": \"white\", \"linecolor\": \"white\", \"ticks\": \"\", \"title\": {\"standoff\": 15}, \"zerolinecolor\": \"white\", \"zerolinewidth\": 2}}}, \"width\": 800},\n",
              "                        {\"responsive\": true}\n",
              "                    ).then(function(){\n",
              "                            \n",
              "var gd = document.getElementById('bb872ccc-2751-4c99-b6e4-bfce73f027af');\n",
              "var x = new MutationObserver(function (mutations, observer) {{\n",
              "        var display = window.getComputedStyle(gd).display;\n",
              "        if (!display || display === 'none') {{\n",
              "            console.log([gd, 'removed!']);\n",
              "            Plotly.purge(gd);\n",
              "            observer.disconnect();\n",
              "        }}\n",
              "}});\n",
              "\n",
              "// Listen for the removal of the full notebook cells\n",
              "var notebookContainer = gd.closest('#notebook-container');\n",
              "if (notebookContainer) {{\n",
              "    x.observe(notebookContainer, {childList: true});\n",
              "}}\n",
              "\n",
              "// Listen for the clearing of the current output cell\n",
              "var outputEl = gd.closest('.output');\n",
              "if (outputEl) {{\n",
              "    x.observe(outputEl, {childList: true});\n",
              "}}\n",
              "\n",
              "                        })\n",
              "                };\n",
              "                \n",
              "            </script>\n",
              "        </div>\n",
              "</body>\n",
              "</html>"
            ]
          },
          "metadata": {
            "tags": []
          }
        }
      ]
    }
  ]
}