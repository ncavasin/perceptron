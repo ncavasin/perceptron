{
  "nbformat": 4,
  "nbformat_minor": 0,
  "metadata": {
    "colab": {
      "name": "perceptron.ipynb",
      "provenance": [],
      "collapsed_sections": [],
      "authorship_tag": "ABX9TyPohKm1ooCPEO7YENmk875M",
      "include_colab_link": true
    },
    "kernelspec": {
      "name": "python3",
      "display_name": "Python 3"
    },
    "language_info": {
      "name": "python"
    }
  },
  "cells": [
    {
      "cell_type": "markdown",
      "metadata": {
        "id": "view-in-github",
        "colab_type": "text"
      },
      "source": [
        "<a href=\"https://colab.research.google.com/github/ncavasin/perceptron/blob/main/perceptron.ipynb\" target=\"_parent\"><img src=\"https://colab.research.google.com/assets/colab-badge.svg\" alt=\"Open In Colab\"/></a>"
      ]
    },
    {
      "cell_type": "markdown",
      "metadata": {
        "id": "Wj3iuR1QgpCQ"
      },
      "source": [
        "## 11089 - Sistemas Inteligentes - Universidad Nacional de Luján - 2021\n",
        "# Perceptron"
      ]
    },
    {
      "cell_type": "markdown",
      "metadata": {
        "id": "TG0GbYV5Fm8A"
      },
      "source": [
        "## Consigna\n",
        "Crear y entrenar un perceptrón capaz de clasificar las entradas recibidas en base a una función linealmente separable:\n",
        "- El perceptrón debe recibir tres entradas binarias.\n",
        "- Los pesos finales y el valor de la función umbral no pueden definirse a priori sino que serán determinados por el entrenamiento y los ejemplos en él utilizados.\n",
        "- La clasificación final sobre el conjunto de datos de entrada debe representarse gráficamente, en la forma de un plano que discrimine los valores de entrada en base a la función representada por el perceptrón.\n",
        "- Explicar brevemente cada uno de los criterios adoptados durantes las etapas de codificación, entrenamiento y evaluación.\n",
        "- El rango de cada coordenada debe ser [0, 1.5].\n",
        "\n",
        "**Fecha de entrega: 08/05/2021**"
      ]
    },
    {
      "cell_type": "markdown",
      "metadata": {
        "id": "LdDlgtkk_vFX"
      },
      "source": [
        "## Resolución\n",
        "\n",
        "### Paso 1 - Inicialización:\n",
        "- Se definen los valores booleanos de las 3 entradas .\n",
        "- Se define por cada combinación de entradsa el valor de salida de la función lógica OR correspondiente.\n",
        "- Se los combina en una matriz para facilitar su presentación."
      ]
    },
    {
      "cell_type": "code",
      "metadata": {
        "colab": {
          "base_uri": "https://localhost:8080/",
          "height": 300
        },
        "id": "Rzoa-U2p1Yp_",
        "outputId": "30f2f013-4f2b-42df-faeb-7aa9b286dca7"
      },
      "source": [
        "import numpy as np\n",
        "import pandas as pd\n",
        "\n",
        "# Hardcodeo los valores de las tres entradas, pues no van a variar\n",
        "x1 = pd.Series((0, 0, 0, 0, 1, 1, 1, 1), name='x1')\n",
        "x2 = pd.Series((0, 0, 1, 1, 0, 0, 1, 1), name='x2')\n",
        "x3 = pd.Series((0, 1, 0, 1, 0, 1, 0, 1), name='x3')\n",
        "\n",
        "# Defino contador para luego mostrar en matriz\n",
        "iter = 0\n",
        "\n",
        "# Los combino en una matriz\n",
        "matriz = pd.concat([x1, x2, x3], axis=1)\n",
        "\n",
        "# Defino la funcion de salida, en este caso la funcion logica OR\n",
        "y = pd.Series((0, 0, 0, 0, 0, 0, 0, 1), name='y')\n",
        "\n",
        "# La inserto a la tabla\n",
        "matriz = pd.concat([matriz, y], axis=1)\n",
        "\n",
        "# Muestro la tabla\n",
        "matriz"
      ],
      "execution_count": 29,
      "outputs": [
        {
          "output_type": "execute_result",
          "data": {
            "text/html": [
              "<div>\n",
              "<style scoped>\n",
              "    .dataframe tbody tr th:only-of-type {\n",
              "        vertical-align: middle;\n",
              "    }\n",
              "\n",
              "    .dataframe tbody tr th {\n",
              "        vertical-align: top;\n",
              "    }\n",
              "\n",
              "    .dataframe thead th {\n",
              "        text-align: right;\n",
              "    }\n",
              "</style>\n",
              "<table border=\"1\" class=\"dataframe\">\n",
              "  <thead>\n",
              "    <tr style=\"text-align: right;\">\n",
              "      <th></th>\n",
              "      <th>x1</th>\n",
              "      <th>x2</th>\n",
              "      <th>x3</th>\n",
              "      <th>y</th>\n",
              "    </tr>\n",
              "  </thead>\n",
              "  <tbody>\n",
              "    <tr>\n",
              "      <th>0</th>\n",
              "      <td>0</td>\n",
              "      <td>0</td>\n",
              "      <td>0</td>\n",
              "      <td>0</td>\n",
              "    </tr>\n",
              "    <tr>\n",
              "      <th>1</th>\n",
              "      <td>0</td>\n",
              "      <td>0</td>\n",
              "      <td>1</td>\n",
              "      <td>0</td>\n",
              "    </tr>\n",
              "    <tr>\n",
              "      <th>2</th>\n",
              "      <td>0</td>\n",
              "      <td>1</td>\n",
              "      <td>0</td>\n",
              "      <td>0</td>\n",
              "    </tr>\n",
              "    <tr>\n",
              "      <th>3</th>\n",
              "      <td>0</td>\n",
              "      <td>1</td>\n",
              "      <td>1</td>\n",
              "      <td>0</td>\n",
              "    </tr>\n",
              "    <tr>\n",
              "      <th>4</th>\n",
              "      <td>1</td>\n",
              "      <td>0</td>\n",
              "      <td>0</td>\n",
              "      <td>0</td>\n",
              "    </tr>\n",
              "    <tr>\n",
              "      <th>5</th>\n",
              "      <td>1</td>\n",
              "      <td>0</td>\n",
              "      <td>1</td>\n",
              "      <td>0</td>\n",
              "    </tr>\n",
              "    <tr>\n",
              "      <th>6</th>\n",
              "      <td>1</td>\n",
              "      <td>1</td>\n",
              "      <td>0</td>\n",
              "      <td>0</td>\n",
              "    </tr>\n",
              "    <tr>\n",
              "      <th>7</th>\n",
              "      <td>1</td>\n",
              "      <td>1</td>\n",
              "      <td>1</td>\n",
              "      <td>1</td>\n",
              "    </tr>\n",
              "  </tbody>\n",
              "</table>\n",
              "</div>"
            ],
            "text/plain": [
              "   x1  x2  x3  y\n",
              "0   0   0   0  0\n",
              "1   0   0   1  0\n",
              "2   0   1   0  0\n",
              "3   0   1   1  0\n",
              "4   1   0   0  0\n",
              "5   1   0   1  0\n",
              "6   1   1   0  0\n",
              "7   1   1   1  1"
            ]
          },
          "metadata": {
            "tags": []
          },
          "execution_count": 29
        }
      ]
    },
    {
      "cell_type": "markdown",
      "metadata": {
        "id": "nHg-hytMaPHH"
      },
      "source": [
        "### Paso 2 - Funciones\n",
        "Se definen las funciones auxiliares ``train()``, ``adjust()`` y ``sep_function()``  para construir el Perceptrón.\n",
        "\n",
        "\n",
        "\n",
        "___\n",
        "\n",
        "\n",
        "``sep_function()``:\n",
        "\n",
        "Esta función es aplicada a cada Z obtenido para acotar la salida al rango de valores binarios $[0, 1]$. La función es llamada Sigmoide y su fórmula es: $S(z) =\\frac{1}{1+e^{-x}}$."
      ]
    },
    {
      "cell_type": "code",
      "metadata": {
        "id": "qXBfiYivcpPI"
      },
      "source": [
        "def sep_function(z):\n",
        "    \"\"\"\n",
        "    Esta funcion representa la separacion lineal de cada salida obtenida.\n",
        "    Si z >= 0.5 ==> z = 1\n",
        "    Si z <  0.5 ==> z = 0\n",
        "    \"\"\"\n",
        "\n",
        "    if z >= 0.5:\n",
        "        return 1\n",
        "    else:\n",
        "        return 0"
      ],
      "execution_count": 2,
      "outputs": []
    },
    {
      "cell_type": "markdown",
      "metadata": {
        "id": "1lCyCY634xnr"
      },
      "source": [
        "___\n",
        "\n",
        "``adjust()``:\n",
        "\n",
        "Cada vez que el valor Z sea diferente al valor Y -correspondiente a la salida correcta para dicha combinación de entradas- se aplica esta función cuyo objetivo es calcular el error de estimación para poder ajustar $b$ (el threshold) y $wi$ (los pesos asignados)."
      ]
    },
    {
      "cell_type": "code",
      "metadata": {
        "id": "t2WGoVfxNGMO"
      },
      "source": [
        "def adjust(z, y, t, p, lr):\n",
        "    \n",
        "    # Calculo error\n",
        "    error = y - z\n",
        "\n",
        "    # Ajusto threhsold\n",
        "    t = t + (-1 *(lr * error))\n",
        "\n",
        "    # Ajusto pesos\n",
        "    p['x1'] += (p['x1'] * lr * error)\n",
        "    p['x2'] += (p['x2'] * lr * error)\n",
        "    p['x3'] += (p['x3'] * lr * error)\n",
        "\n",
        "    return t, p"
      ],
      "execution_count": 3,
      "outputs": []
    },
    {
      "cell_type": "markdown",
      "metadata": {
        "id": "uOnGrTj84xUC"
      },
      "source": [
        "___\n",
        "\n",
        "``train()``:\n",
        "\n",
        "Se alimenta de las entradas definidas en la matriz y para cada combinacion de ellas calcula un valor de Z al que posteriormente aplica la función de separación para redondear su valor.\n",
        "\n",
        "La fórmula utilizada es para obtener Z es $Z=(\\sum_{i=1}^n x_i*w_i) + b$, siendo: \n",
        "\n",
        "- $n$ la cantidad de entradas en la matriz.\n",
        "- $x_i$ el valor de la entrada procesada.\n",
        "- $w_i$ el peso asginado una entrada.\n",
        "- $b$ el threshold."
      ]
    },
    {
      "cell_type": "code",
      "metadata": {
        "id": "LNsrq-1OZoxe"
      },
      "source": [
        "def train(mat, p, t, lr, e):\n",
        "\n",
        "    errores = True\n",
        "\n",
        "    while errores and e < 100:\n",
        "        errores = False\n",
        "\n",
        "        # Creo lista para almacenar valores calculados\n",
        "        z2 = []\n",
        "\n",
        "        for i in range(0, matriz.shape[0]):\n",
        "\n",
        "            # Calculo z\n",
        "            z = ((mat['x1'][i] * p['x1']) + (mat['x2'][i] * p['x2']) + (mat['x3'][i] * p['x3'])) - t\n",
        "\n",
        "            # Aplico la funcion de separacion\n",
        "            z = sep_function(z)\n",
        "\n",
        "            #print(f'z={z} | y={mat[\"y\"][i]} | t ={t}')\n",
        "\n",
        "            # Verifico si hubo error\n",
        "            if z != mat['y'][i]:\n",
        "                errores = True\n",
        "\n",
        "                # Ajusto\n",
        "                t, p = adjust(z, mat['y'][i], t, p, lr)\n",
        "                \n",
        "                #print(f'AJUSTE = t ={t} | pesos = {p.values()}')\n",
        "                \n",
        "                # Incremento contador de iteraciones\n",
        "                e += 1     \n",
        "                #print(f'Epoch = {e}')\n",
        "            \n",
        "            # Agrego el valor calculado a la lista\n",
        "            z2.append(z)\n",
        "    if epochs == 100:\n",
        "        exit(-1)\n",
        "    else:\n",
        "        return t, p, e, z2"
      ],
      "execution_count": 58,
      "outputs": []
    },
    {
      "cell_type": "markdown",
      "metadata": {
        "id": "wan01iL31xQ3"
      },
      "source": [
        "### Paso 3 - Ejecucion\n",
        "\n",
        "- Se inicializan los pesos de manera aleatoria\n",
        "- Se define un $b$ ``threshold`` = 0.5\n",
        "- Se define la velocidad de aprendizaje ``learning_rate`` = 0.2\n",
        "- Se inicializa en 0 el acumulador ``epochs`` que indicará cuantas veces se ajustaron los pesos.\n",
        "\n",
        "\n",
        "**Nota:** el límite superior de ajustes de peso permitido es *100* para evitar demoras de procesamiento. Cuando sea alcanzado, se retornaran todos los valores actuales aunque tengan errores de clasificación y esto se podrá ver reflejado en la matriz de resultados."
      ]
    },
    {
      "cell_type": "code",
      "metadata": {
        "id": "zPwBT2q-D_t5"
      },
      "source": [
        "import random \n",
        "\n",
        "# Defino los valores iniciales del threshold, learn rate y epochs\n",
        "threshold = 0.5\n",
        "learn_rate = 0.2\n",
        "epochs = 0\n",
        "\n",
        "# Inicializo pesos al azar\n",
        "pesos = {}\n",
        "pesos['x1'] = np.float(round(random.uniform(0, 1.5), 2))\n",
        "pesos['x2'] = np.float(round(random.uniform(0, 1.5), 2))\n",
        "pesos['x3'] = np.float(round(random.uniform(0, 1.5), 2))\n",
        "\n",
        "\n",
        "print('PARAMETROS INICIALES:')\n",
        "print(f'Epochs = {epochs}')\n",
        "print(f'Threshold = {threshold:.2f}')\n",
        "print(f\"Vel aprendizaje = {learn_rate}\")\n",
        "for index, value in enumerate(pesos):\n",
        "    print(f'Peso {index} = {pesos[value]:.4f}')\n",
        "\n",
        "\n",
        "print('\\n<=== INI PERIODO DE ENTRENAMIENTO ===>')\n",
        "# Entreno\n",
        "threshold, pesos, epochs, z = train(matriz, pesos, threshold, learn_rate, epochs)\n",
        "# Formateo para mostrar\n",
        "z = pd.Series(np.asarray(z), name=f'z{iter}')\n",
        "matriz = pd.concat([matriz, z], axis= 1)\n",
        "# Aumento el contador de veces ejecutadas del algoritmo\n",
        "iter += 1\n",
        "print('<=== FIN PERIODO DE ENTRENAMIENTO ===>')\n",
        "\n",
        "\n",
        "print('\\nPARAMETROS FINALES:')\n",
        "print(f'Epochs = {epochs}')\n",
        "print(f'Threshold = {threshold:.2f}')\n",
        "print(f\"Vel aprendizaje = {learn_rate}\")\n",
        "for index, value in enumerate(pesos):\n",
        "    print(f'Peso {index} = {pesos[value]:.4f}')\n",
        "\n",
        "print('\\n\\nMatriz con todas las ejecuciones y sus resultados:')\n",
        "matriz"
      ],
      "execution_count": null,
      "outputs": []
    },
    {
      "cell_type": "code",
      "metadata": {
        "id": "tjvxvqvGiGo4"
      },
      "source": [
        "import matplotlib as mp"
      ],
      "execution_count": null,
      "outputs": []
    }
  ]
}